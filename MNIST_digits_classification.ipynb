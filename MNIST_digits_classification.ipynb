{
  "nbformat": 4,
  "nbformat_minor": 0,
  "metadata": {
    "colab": {
      "name": "MNIST-digits-classification.ipynb",
      "provenance": []
    },
    "kernelspec": {
      "name": "python3",
      "display_name": "Python 3"
    },
    "language_info": {
      "name": "python"
    }
  },
  "cells": [
    {
      "cell_type": "markdown",
      "source": [
        "#Imports"
      ],
      "metadata": {
        "id": "M3qjl5IEauf3"
      }
    },
    {
      "cell_type": "code",
      "execution_count": 1,
      "metadata": {
        "id": "RlDGUKBRZgKh"
      },
      "outputs": [],
      "source": [
        "import numpy as np\n",
        "import matplotlib.pyplot as plt\n",
        "import keras\n",
        "%matplotlib inline\n",
        "from keras.models import Sequential\n",
        "from keras.layers import Dense, Dropout\n",
        "from sklearn.metrics import confusion_matrix\n",
        "import seaborn as sns\n",
        "\n",
        "np.random.seed(0)"
      ]
    },
    {
      "cell_type": "markdown",
      "source": [
        "#Data"
      ],
      "metadata": {
        "id": "uNdXZOjMbbo-"
      }
    },
    {
      "cell_type": "code",
      "source": [
        "from keras.datasets import mnist\n",
        "(x_train, y_train), (x_test, y_test) = mnist.load_data()"
      ],
      "metadata": {
        "id": "vFOtD1Tkap3F"
      },
      "execution_count": 2,
      "outputs": []
    },
    {
      "cell_type": "code",
      "source": [
        "print(x_train.shape, y_train.shape)\n",
        "print(x_test.shape, y_test.shape)"
      ],
      "metadata": {
        "colab": {
          "base_uri": "https://localhost:8080/"
        },
        "id": "CTRCRv7qb4qF",
        "outputId": "9b6f1ef2-d935-4103-ce3a-ba15de8ece9b"
      },
      "execution_count": 3,
      "outputs": [
        {
          "output_type": "stream",
          "name": "stdout",
          "text": [
            "(60000, 28, 28) (60000,)\n",
            "(10000, 28, 28) (10000,)\n"
          ]
        }
      ]
    },
    {
      "cell_type": "markdown",
      "source": [
        "#Visualize Examples"
      ],
      "metadata": {
        "id": "0jwGvhN1c0TA"
      }
    },
    {
      "cell_type": "code",
      "source": [
        "num_classes = 10\n",
        "f, ax = plt.subplots(1, num_classes, figsize=(20, 20))\n",
        "\n",
        "for i in range(num_classes):\n",
        "  sample = x_train[y_train == i][0]\n",
        "  ax[i].imshow(sample, cmap='gray')\n",
        "  ax[i].set_title(\"Label: {}\".format(i), fontsize=16)"
      ],
      "metadata": {
        "colab": {
          "base_uri": "https://localhost:8080/",
          "height": 160
        },
        "id": "Le6w86Apc130",
        "outputId": "8813b936-89cf-4d49-d256-ea260fc19d1a"
      },
      "execution_count": 4,
      "outputs": [
        {
          "output_type": "display_data",
          "data": {
            "image/png": "[encoded data removed]",
            "text/plain": [
              "<Figure size 1440x1440 with 10 Axes>"
            ]
          },
          "metadata": {
            "needs_background": "light"
          }
        }
      ]
    },
    {
      "cell_type": "markdown",
      "source": [
        "#One Hot Encoding "
      ],
      "metadata": {
        "id": "_DB3-KNKheqz"
      }
    },
    {
      "cell_type": "code",
      "source": [
        "# y_train is numbers which is continous but we're doing classification so we do one hot encoding\n",
        "y_train = keras.utils.np_utils.to_categorical(y_train, num_classes)\n",
        "y_test = keras.utils.np_utils.to_categorical(y_test, num_classes)"
      ],
      "metadata": {
        "id": "6T2ULSPUdSJS"
      },
      "execution_count": 5,
      "outputs": []
    },
    {
      "cell_type": "markdown",
      "source": [
        "#Prepare Data"
      ],
      "metadata": {
        "id": "YFS3vEnviuO_"
      }
    },
    {
      "cell_type": "code",
      "source": [
        "# Normalize data\n",
        "minimum = 0\n",
        "maximum = 255.0\n",
        "\n",
        "x_train = (x_train - minimum) / (maximum - minimum)\n",
        "x_test = (x_test - minimum) / (maximum - minimum)"
      ],
      "metadata": {
        "id": "EP57S7h1ivaq"
      },
      "execution_count": 6,
      "outputs": []
    },
    {
      "cell_type": "code",
      "source": [
        "# Reshape data\n",
        "# Each sample has size 28x28 so we want to flatten it into 1 long vector and pass it to the neural network\n",
        "\n",
        "x_train = x_train.reshape(x_train.shape[0], -1) # -1 converts the 28x28 matrix to 1 dimension\n",
        "x_test = x_test.reshape(x_test.shape[0], -1)"
      ],
      "metadata": {
        "id": "dp9jpzCZkEvg"
      },
      "execution_count": 7,
      "outputs": []
    },
    {
      "cell_type": "markdown",
      "source": [
        "# Create Model - Fully Connected Neural Network"
      ],
      "metadata": {
        "id": "Ps7zZ_o1mUQ7"
      }
    },
    {
      "cell_type": "code",
      "source": [
        "model = Sequential()\n",
        "model.add(Dense(units=128, input_shape=(x_train.shape[1],), activation='relu'))\n",
        "model.add(Dense(units=128, activation='relu')) # no need to specify shape because its automatic\n",
        "model.add(Dropout(0.25)) # 25% of the neurons will be deactivated during training to prevent overfitting\n",
        "model.add(Dense(units=10, activation='softmax')) # 10 digits (classifier)\n",
        "\n",
        "model.compile(loss=\"categorical_crossentropy\", optimizer=\"adam\", metrics=['accuracy'])\n",
        "model.summary()"
      ],
      "metadata": {
        "colab": {
          "base_uri": "https://localhost:8080/"
        },
        "id": "yXW8VUbbmXTt",
        "outputId": "29402104-5485-4e0a-895d-e8c99045a8f6"
      },
      "execution_count": 8,
      "outputs": [
        {
          "output_type": "stream",
          "name": "stdout",
          "text": [
            "Model: \"sequential\"\n",
            "_________________________________________________________________\n",
            " Layer (type)                Output Shape              Param #   \n",
            "=================================================================\n",
            " dense (Dense)               (None, 128)               100480    \n",
            "                                                                 \n",
            " dense_1 (Dense)             (None, 128)               16512     \n",
            "                                                                 \n",
            " dropout (Dropout)           (None, 128)               0         \n",
            "                                                                 \n",
            " dense_2 (Dense)             (None, 10)                1290      \n",
            "                                                                 \n",
            "=================================================================\n",
            "Total params: 118,282\n",
            "Trainable params: 118,282\n",
            "Non-trainable params: 0\n",
            "_________________________________________________________________\n"
          ]
        }
      ]
    },
    {
      "cell_type": "markdown",
      "source": [
        "#Train"
      ],
      "metadata": {
        "id": "7kZfFJXLnw-k"
      }
    },
    {
      "cell_type": "code",
      "source": [
        "batch_size = 512\n",
        "epochs = 10\n",
        "model.fit(x=x_train, y=y_train, batch_size=batch_size, epochs=epochs)"
      ],
      "metadata": {
        "colab": {
          "base_uri": "https://localhost:8080/"
        },
        "id": "JRHnBo-snyqu",
        "outputId": "6ce60acc-c54f-49b9-8c2a-55ab755513c7"
      },
      "execution_count": 9,
      "outputs": [
        {
          "output_type": "stream",
          "name": "stdout",
          "text": [
            "Epoch 1/10\n",
            "118/118 [==============================] - 2s 10ms/step - loss: 0.6131 - accuracy: 0.8234\n",
            "Epoch 2/10\n",
            "118/118 [==============================] - 1s 10ms/step - loss: 0.2302 - accuracy: 0.9338\n",
            "Epoch 3/10\n",
            "118/118 [==============================] - 1s 10ms/step - loss: 0.1716 - accuracy: 0.9503\n",
            "Epoch 4/10\n",
            "118/118 [==============================] - 1s 10ms/step - loss: 0.1369 - accuracy: 0.9601\n",
            "Epoch 5/10\n",
            "118/118 [==============================] - 1s 10ms/step - loss: 0.1140 - accuracy: 0.9658\n",
            "Epoch 6/10\n",
            "118/118 [==============================] - 1s 10ms/step - loss: 0.0969 - accuracy: 0.9715\n",
            "Epoch 7/10\n",
            "118/118 [==============================] - 1s 10ms/step - loss: 0.0824 - accuracy: 0.9751\n",
            "Epoch 8/10\n",
            "118/118 [==============================] - 1s 10ms/step - loss: 0.0725 - accuracy: 0.9779\n",
            "Epoch 9/10\n",
            "118/118 [==============================] - 1s 10ms/step - loss: 0.0651 - accuracy: 0.9801\n",
            "Epoch 10/10\n",
            "118/118 [==============================] - 1s 10ms/step - loss: 0.0563 - accuracy: 0.9826\n"
          ]
        },
        {
          "output_type": "execute_result",
          "data": {
            "text/plain": [
              "<keras.callbacks.History at 0x7f42bfdad7d0>"
            ]
          },
          "metadata": {},
          "execution_count": 9
        }
      ]
    },
    {
      "cell_type": "markdown",
      "source": [
        "# Evaluate"
      ],
      "metadata": {
        "id": "UrhRNIFronKX"
      }
    },
    {
      "cell_type": "code",
      "source": [
        "test_loss, test_acc = model.evaluate(x_test, y_test)\n",
        "print(\"Test Loss : {}, Test Accuracy : {}\".format(test_loss, test_acc))"
      ],
      "metadata": {
        "colab": {
          "base_uri": "https://localhost:8080/"
        },
        "id": "rbE1cGHGopnX",
        "outputId": "c5e40f9e-b79e-4834-af3c-1982995defac"
      },
      "execution_count": 10,
      "outputs": [
        {
          "output_type": "stream",
          "name": "stdout",
          "text": [
            "313/313 [==============================] - 1s 2ms/step - loss: 0.0713 - accuracy: 0.9774\n",
            "Test Loss : 0.07127292454242706, Test Accuracy : 0.977400004863739\n"
          ]
        }
      ]
    },
    {
      "cell_type": "code",
      "source": [
        "y_pred = model.predict(x_test)\n",
        "y_pred_classes = np.argmax(y_pred, axis = 1) # get index of the highest probability\n",
        "print(y_pred)\n",
        "print(y_pred_classes)"
      ],
      "metadata": {
        "colab": {
          "base_uri": "https://localhost:8080/"
        },
        "id": "tgQW4PtSpsH7",
        "outputId": "f282c407-da58-4ff3-91cb-7cc8840a5b03"
      },
      "execution_count": 11,
      "outputs": [
        {
          "output_type": "stream",
          "name": "stdout",
          "text": [
            "[[3.41524640e-07 8.69900759e-07 9.89353648e-05 ... 9.98910308e-01\n",
            "  5.55996576e-06 3.32683921e-05]\n",
            " [6.42688065e-07 2.69468321e-04 9.99654055e-01 ... 7.41266533e-08\n",
            "  2.72654470e-05 1.33790334e-09]\n",
            " [6.81445135e-06 9.98509824e-01 1.22833328e-04 ... 8.51313525e-04\n",
            "  6.30408322e-05 1.11220115e-05]\n",
            " ...\n",
            " [6.61278463e-11 4.66242511e-09 2.00083200e-10 ... 8.11814857e-07\n",
            "  3.14885170e-07 7.48493630e-06]\n",
            " [8.51370103e-08 7.84390330e-09 2.67016131e-11 ... 4.70293005e-09\n",
            "  6.37348921e-06 5.84837112e-09]\n",
            " [3.01821359e-08 1.40778266e-11 1.73250339e-08 ... 8.47444402e-13\n",
            "  4.43335013e-09 2.05281833e-10]]\n",
            "[7 2 1 ... 4 5 6]\n"
          ]
        }
      ]
    },
    {
      "cell_type": "code",
      "source": [
        "# Single Example\n",
        "random_idx = np.random.choice(len(x_test))\n",
        "x_sample = x_test[random_idx]\n",
        "\n",
        "y_true = np.argmax(y_test, axis=1)\n",
        "y_sample_true = y_true[random_idx]\n",
        "y_sample_pred_class = y_pred_classes[random_idx]\n",
        "\n",
        "plt.title(\"Predicted : {}, True : {}\".format(y_sample_pred_class, y_sample_true), fontsize=16)\n",
        "plt.imshow(x_sample.reshape(28, 28), cmap='gray')"
      ],
      "metadata": {
        "colab": {
          "base_uri": "https://localhost:8080/",
          "height": 301
        },
        "id": "MsLBV592qO1I",
        "outputId": "0208ed24-c6fb-469f-822f-962836320140"
      },
      "execution_count": 12,
      "outputs": [
        {
          "output_type": "execute_result",
          "data": {
            "text/plain": [
              "<matplotlib.image.AxesImage at 0x7f42bfcacdd0>"
            ]
          },
          "metadata": {},
          "execution_count": 12
        },
        {
          "output_type": "display_data",
          "data": {
            "image/png": "[encoded data removed]",
            "text/plain": [
              "<Figure size 432x288 with 1 Axes>"
            ]
          },
          "metadata": {
            "needs_background": "light"
          }
        }
      ]
    },
    {
      "cell_type": "markdown",
      "source": [
        "#Confusion Matrix"
      ],
      "metadata": {
        "id": "DRKlizJWs1Cd"
      }
    },
    {
      "cell_type": "code",
      "source": [
        "confusion_mtx = confusion_matrix(y_true, y_pred_classes)\n",
        "\n",
        "# Plot\n",
        "fig, ax = plt.subplots(figsize=(15, 10))\n",
        "ax = sns.heatmap(confusion_mtx, annot=True, fmt=\"d\", ax=ax, cmap='Blues')\n",
        "ax.set_xlabel(\"Predicted Label\")\n",
        "ax.set_ylabel(\"True Label\")\n",
        "ax.set_title(\"Confusion Matrix\")"
      ],
      "metadata": {
        "colab": {
          "base_uri": "https://localhost:8080/",
          "height": 640
        },
        "id": "l5fYbkbWs2Vj",
        "outputId": "f637c60c-f8c1-4d42-ec76-4229c6751c1f"
      },
      "execution_count": 13,
      "outputs": [
        {
          "output_type": "execute_result",
          "data": {
            "text/plain": [
              "Text(0.5, 1.0, 'Confusion Matrix')"
            ]
          },
          "metadata": {},
          "execution_count": 13
        },
        {
          "output_type": "display_data",
          "data": {
            "image/png": "[encoded data removed]",
            "text/plain": [
              "<Figure size 1080x720 with 2 Axes>"
            ]
          },
          "metadata": {
            "needs_background": "light"
          }
        }
      ]
    },
    {
      "cell_type": "markdown",
      "source": [
        "# Investigate Some Errors"
      ],
      "metadata": {
        "id": "TgE9ijmpuQ1l"
      }
    },
    {
      "cell_type": "code",
      "source": [
        "errors = (y_pred_classes - y_true != 0)\n",
        "y_pred_classes_errors = y_pred_classes[errors]\n",
        "y_pred_errors = y_pred[errors]\n",
        "y_true_errors =  y_true[errors]\n",
        "x_test_errors =  x_test[errors]"
      ],
      "metadata": {
        "id": "2Xpeaku-uSTc"
      },
      "execution_count": 14,
      "outputs": []
    },
    {
      "cell_type": "code",
      "source": [
        "y_pred_errors_probability = np.max(y_pred_errors, axis = 1)\n",
        "true_probability_errors = np.diagonal(np.take(y_pred_errors, y_true_errors, axis=1))\n",
        "diff_errors_pred_true = y_pred_errors_probability - true_probability_errors\n",
        "\n",
        "# Get list of indices of sorted differences\n",
        "sorted_idx_diff_errors = np.argsort(diff_errors_pred_true)\n",
        "top_idx_diff_errors = sorted_idx_diff_errors[-5:] # 5 last ones"
      ],
      "metadata": {
        "id": "EhbF_VTKuxJT"
      },
      "execution_count": 15,
      "outputs": []
    },
    {
      "cell_type": "code",
      "source": [
        "num = len(top_idx_diff_errors)\n",
        "f, ax = plt.subplots(1, num, figsize=(30, 30))\n",
        "for i in range(num):\n",
        "  idx = top_idx_diff_errors[i]\n",
        "  sample = x_test_errors[idx].reshape(28, 28)\n",
        "  y_t = y_true_errors[idx]\n",
        "  y_p = y_pred_classes_errors[idx]\n",
        "  ax[i].imshow(sample, cmap='gray')\n",
        "  ax[i].set_title(\"Predicted label : {}\\nTrue Label : {}\".format(y_p, y_t), fontsize=22)"
      ],
      "metadata": {
        "colab": {
          "base_uri": "https://localhost:8080/",
          "height": 333
        },
        "id": "_f3pJi1qvhMQ",
        "outputId": "bb261c3f-dbad-43df-fd01-7b896f2b3e72"
      },
      "execution_count": 16,
      "outputs": [
        {
          "output_type": "display_data",
          "data": {
            "image/png": "[encoded data removed]",
            "text/plain": [
              "<Figure size 2160x2160 with 5 Axes>"
            ]
          },
          "metadata": {
            "needs_background": "light"
          }
        }
      ]
    },
    {
      "cell_type": "code",
      "source": [
        ""
      ],
      "metadata": {
        "id": "gmtUdu1rwVFP"
      },
      "execution_count": 16,
      "outputs": []
    }
  ]
}